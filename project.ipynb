{
 "cells": [
  {
   "cell_type": "code",
   "execution_count": 28,
   "id": "ab46e835",
   "metadata": {},
   "outputs": [],
   "source": [
    "import pandas as pd\n",
    "import numpy as np\n",
    "import matplotlib.pyplot as plt\n",
    "import seaborn as sns\n",
    "%matplotlib inline\n",
    "from sklearn.feature_extraction.text import TfidfVectorizer\n",
    "from sklearn.metrics.pairwise import cosine_similarity"
   ]
  },
  {
   "cell_type": "code",
   "execution_count": 6,
   "id": "0be4e34d",
   "metadata": {},
   "outputs": [],
   "source": [
    "df = pd.read_csv(\"D:/deep learning/crime section recommandation system/ipc_sections.csv\")"
   ]
  },
  {
   "cell_type": "code",
   "execution_count": 7,
   "id": "5382af3c",
   "metadata": {},
   "outputs": [
    {
     "data": {
      "text/plain": [
       "(444, 4)"
      ]
     },
     "execution_count": 7,
     "metadata": {},
     "output_type": "execute_result"
    }
   ],
   "source": [
    "df.shape"
   ]
  },
  {
   "cell_type": "code",
   "execution_count": 8,
   "id": "ab9a6a27",
   "metadata": {},
   "outputs": [
    {
     "data": {
      "text/html": [
       "<div>\n",
       "<style scoped>\n",
       "    .dataframe tbody tr th:only-of-type {\n",
       "        vertical-align: middle;\n",
       "    }\n",
       "\n",
       "    .dataframe tbody tr th {\n",
       "        vertical-align: top;\n",
       "    }\n",
       "\n",
       "    .dataframe thead th {\n",
       "        text-align: right;\n",
       "    }\n",
       "</style>\n",
       "<table border=\"1\" class=\"dataframe\">\n",
       "  <thead>\n",
       "    <tr style=\"text-align: right;\">\n",
       "      <th></th>\n",
       "      <th>Description</th>\n",
       "      <th>Offense</th>\n",
       "      <th>Punishment</th>\n",
       "      <th>Section</th>\n",
       "    </tr>\n",
       "  </thead>\n",
       "  <tbody>\n",
       "    <tr>\n",
       "      <th>0</th>\n",
       "      <td>Description of IPC Section 140\\nAccording to s...</td>\n",
       "      <td>Wearing the dress or carrying any token used b...</td>\n",
       "      <td>3 Months or Fine or Both</td>\n",
       "      <td>IPC_140</td>\n",
       "    </tr>\n",
       "    <tr>\n",
       "      <th>1</th>\n",
       "      <td>Description of IPC Section 127\\nAccording to s...</td>\n",
       "      <td>Receiving property taken by war or depredation...</td>\n",
       "      <td>7 Years + Fine + forfeiture of property</td>\n",
       "      <td>IPC_127</td>\n",
       "    </tr>\n",
       "    <tr>\n",
       "      <th>2</th>\n",
       "      <td>Description of IPC Section 128\\nAccording to s...</td>\n",
       "      <td>Public servant voluntarily allowing prisoner o...</td>\n",
       "      <td>Imprisonment for Life or 10 Years + Fine</td>\n",
       "      <td>IPC_128</td>\n",
       "    </tr>\n",
       "    <tr>\n",
       "      <th>3</th>\n",
       "      <td>Description of IPC Section 129\\nAccording to s...</td>\n",
       "      <td>Public servant negligently suffering prisoner ...</td>\n",
       "      <td>Simple Imprisonment 3 Years + Fine</td>\n",
       "      <td>IPC_129</td>\n",
       "    </tr>\n",
       "    <tr>\n",
       "      <th>4</th>\n",
       "      <td>Description of IPC Section 130\\nAccording to s...</td>\n",
       "      <td>Aiding escape of, rescuing or harbouring, such...</td>\n",
       "      <td>Imprisonment for Life or 10 Years + Fine</td>\n",
       "      <td>IPC_130</td>\n",
       "    </tr>\n",
       "  </tbody>\n",
       "</table>\n",
       "</div>"
      ],
      "text/plain": [
       "                                         Description  \\\n",
       "0  Description of IPC Section 140\\nAccording to s...   \n",
       "1  Description of IPC Section 127\\nAccording to s...   \n",
       "2  Description of IPC Section 128\\nAccording to s...   \n",
       "3  Description of IPC Section 129\\nAccording to s...   \n",
       "4  Description of IPC Section 130\\nAccording to s...   \n",
       "\n",
       "                                             Offense  \\\n",
       "0  Wearing the dress or carrying any token used b...   \n",
       "1  Receiving property taken by war or depredation...   \n",
       "2  Public servant voluntarily allowing prisoner o...   \n",
       "3  Public servant negligently suffering prisoner ...   \n",
       "4  Aiding escape of, rescuing or harbouring, such...   \n",
       "\n",
       "                                 Punishment  Section  \n",
       "0                  3 Months or Fine or Both  IPC_140  \n",
       "1   7 Years + Fine + forfeiture of property  IPC_127  \n",
       "2  Imprisonment for Life or 10 Years + Fine  IPC_128  \n",
       "3        Simple Imprisonment 3 Years + Fine  IPC_129  \n",
       "4  Imprisonment for Life or 10 Years + Fine  IPC_130  "
      ]
     },
     "execution_count": 8,
     "metadata": {},
     "output_type": "execute_result"
    }
   ],
   "source": [
    "df.head()"
   ]
  },
  {
   "cell_type": "code",
   "execution_count": 27,
   "id": "a5558ff1",
   "metadata": {},
   "outputs": [
    {
     "data": {
      "text/plain": [
       "Description    0\n",
       "Offense        0\n",
       "Punishment     0\n",
       "Section        0\n",
       "dtype: int64"
      ]
     },
     "execution_count": 27,
     "metadata": {},
     "output_type": "execute_result"
    }
   ],
   "source": [
    "df.isna().sum()"
   ]
  },
  {
   "cell_type": "code",
   "execution_count": 20,
   "id": "56ff4379",
   "metadata": {},
   "outputs": [],
   "source": [
    "df_recovered = df.copy()"
   ]
  },
  {
   "cell_type": "code",
   "execution_count": 26,
   "id": "32f41a18",
   "metadata": {},
   "outputs": [],
   "source": [
    "df['Offense'] = df['Offense'].fillna('')\n",
    "df['Punishment'] = df['Punishment'].fillna('')"
   ]
  },
  {
   "cell_type": "code",
   "execution_count": 30,
   "id": "4416ca02",
   "metadata": {},
   "outputs": [],
   "source": [
    "df['text'] = df['Offense'].fillna('') + ' ' + df['Description'].fillna('')"
   ]
  },
  {
   "cell_type": "code",
   "execution_count": 31,
   "id": "93198b14",
   "metadata": {},
   "outputs": [],
   "source": [
    "vectorizer = TfidfVectorizer(stop_words='english')\n",
    "tfidf_matrix = vectorizer.fit_transform(df['text'])\n"
   ]
  },
  {
   "cell_type": "code",
   "execution_count": 32,
   "id": "27e6cd50",
   "metadata": {},
   "outputs": [],
   "source": [
    "def recommend_ipc_sections(query, top_n=5):\n",
    "    query_vec = vectorizer.transform([query])\n",
    "    similarity = cosine_similarity(query_vec, tfidf_matrix).flatten()\n",
    "    top_indices = similarity.argsort()[-top_n:][::-1]\n",
    "    return df.iloc[top_indices][['Section', 'Offense', 'Punishment']]"
   ]
  },
  {
   "cell_type": "code",
   "execution_count": 33,
   "id": "254f6aff",
   "metadata": {},
   "outputs": [
    {
     "name": "stdout",
     "output_type": "stream",
     "text": [
      "     Section                                            Offense  \\\n",
      "3    IPC_129  Public servant negligently suffering prisoner ...   \n",
      "2    IPC_128  Public servant voluntarily allowing prisoner o...   \n",
      "4    IPC_130  Aiding escape of, rescuing or harbouring, such...   \n",
      "124  IPC_223  Escape from confinement negligently suffered b...   \n",
      "84   IPC_224  Resistance or obstruction by a person to his l...   \n",
      "\n",
      "                                          Punishment  \n",
      "3                 Simple Imprisonment 3 Years + Fine  \n",
      "2           Imprisonment for Life or 10 Years + Fine  \n",
      "4           Imprisonment for Life or 10 Years + Fine  \n",
      "124  Simple Imprisonment for 2 Years or Fine or Both  \n",
      "84                           2 Years or Fine or Both  \n"
     ]
    }
   ],
   "source": [
    "query = \"helped a prisoner escape from jail\"\n",
    "results = recommend_ipc_sections(query)\n",
    "print(results)"
   ]
  },
  {
   "cell_type": "code",
   "execution_count": 34,
   "id": "a054a324",
   "metadata": {},
   "outputs": [],
   "source": [
    "import tkinter as tk\n",
    "from tkinter import ttk, scrolledtext"
   ]
  },
  {
   "cell_type": "code",
   "execution_count": 36,
   "id": "7ad9949e",
   "metadata": {},
   "outputs": [],
   "source": [
    "def get_recommendations():\n",
    "    user_query = entry.get(\"1.0\", tk.END).strip()\n",
    "    if not user_query:\n",
    "        result_text.delete(\"1.0\", tk.END)\n",
    "        result_text.insert(tk.END, \"Please enter a description.\")\n",
    "        return\n",
    "    results = recommend_ipc_sections(user_query)\n",
    "    result_text.delete(\"1.0\", tk.END)\n",
    "    for i, row in results.iterrows():\n",
    "        result_text.insert(tk.END, f\"Section: {row['Section']}\\n\")\n",
    "        result_text.insert(tk.END, f\"Offense: {row['Offense']}\\n\")\n",
    "        result_text.insert(tk.END, f\"Punishment: {row['Punishment']}\\n\")\n",
    "        result_text.insert(tk.END, \"-\"*50 + \"\\n\")"
   ]
  },
  {
   "cell_type": "code",
   "execution_count": 37,
   "id": "b99f9eb1",
   "metadata": {},
   "outputs": [
    {
     "data": {
      "text/plain": [
       "''"
      ]
     },
     "execution_count": 37,
     "metadata": {},
     "output_type": "execute_result"
    }
   ],
   "source": [
    "root = tk.Tk()\n",
    "root.title(\"Crime Section Recommender System\")\n"
   ]
  },
  {
   "cell_type": "code",
   "execution_count": 38,
   "id": "0f7aca39",
   "metadata": {},
   "outputs": [],
   "source": [
    "tk.Label(root, text=\"Enter Crime Description:\", font=('Arial', 12)).pack(pady=5)"
   ]
  },
  {
   "cell_type": "code",
   "execution_count": 39,
   "id": "b299fa20",
   "metadata": {},
   "outputs": [],
   "source": [
    "entry = scrolledtext.ScrolledText(root, wrap=tk.WORD, width=60, height=6)\n",
    "entry.pack(padx=10, pady=5)"
   ]
  },
  {
   "cell_type": "code",
   "execution_count": 40,
   "id": "111272ea",
   "metadata": {},
   "outputs": [],
   "source": [
    "tk.Button(root, text=\"Recommend IPC Sections\", command=get_recommendations, font=('Arial', 11), bg='lightblue').pack(pady=10)"
   ]
  },
  {
   "cell_type": "code",
   "execution_count": 41,
   "id": "35db6e1b",
   "metadata": {},
   "outputs": [],
   "source": [
    "result_text = scrolledtext.ScrolledText(root, wrap=tk.WORD, width=70, height=15)\n",
    "result_text.pack(padx=10, pady=5)\n"
   ]
  },
  {
   "cell_type": "code",
   "execution_count": 42,
   "id": "ebd36f04",
   "metadata": {},
   "outputs": [],
   "source": [
    "root.mainloop()"
   ]
  }
 ],
 "metadata": {
  "kernelspec": {
   "display_name": "tfenv",
   "language": "python",
   "name": "python3"
  },
  "language_info": {
   "codemirror_mode": {
    "name": "ipython",
    "version": 3
   },
   "file_extension": ".py",
   "mimetype": "text/x-python",
   "name": "python",
   "nbconvert_exporter": "python",
   "pygments_lexer": "ipython3",
   "version": "3.10.16"
  }
 },
 "nbformat": 4,
 "nbformat_minor": 5
}
